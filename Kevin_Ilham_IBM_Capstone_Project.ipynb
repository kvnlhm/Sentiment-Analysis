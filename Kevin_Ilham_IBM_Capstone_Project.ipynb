{
  "nbformat": 4,
  "nbformat_minor": 0,
  "metadata": {
    "colab": {
      "provenance": [],
      "authorship_tag": "ABX9TyN+F/pCrAxCscfGdG3nUMl9",
      "include_colab_link": true
    },
    "kernelspec": {
      "name": "python3",
      "display_name": "Python 3"
    },
    "language_info": {
      "name": "python"
    }
  },
  "cells": [
    {
      "cell_type": "markdown",
      "metadata": {
        "id": "view-in-github",
        "colab_type": "text"
      },
      "source": [
        "<a href=\"https://colab.research.google.com/github/kvnlhm/Sentiment-Analysis/blob/main/Kevin_Ilham_IBM_Capstone_Project.ipynb\" target=\"_parent\"><img src=\"https://colab.research.google.com/assets/colab-badge.svg\" alt=\"Open In Colab\"/></a>"
      ]
    },
    {
      "cell_type": "code",
      "execution_count": 59,
      "metadata": {
        "colab": {
          "base_uri": "https://localhost:8080/"
        },
        "id": "WjKX8PcUu9Gr",
        "outputId": "467e6bc8-5987-46aa-e2a7-70465059bb18"
      },
      "outputs": [
        {
          "output_type": "stream",
          "name": "stdout",
          "text": [
            "Requirement already satisfied: replicate in /usr/local/lib/python3.12/dist-packages (1.0.7)\n",
            "Requirement already satisfied: langchain_community in /usr/local/lib/python3.12/dist-packages (0.3.29)\n",
            "Requirement already satisfied: pandas in /usr/local/lib/python3.12/dist-packages (2.2.2)\n",
            "Requirement already satisfied: beautifulsoup4 in /usr/local/lib/python3.12/dist-packages (4.13.5)\n",
            "Requirement already satisfied: nltk in /usr/local/lib/python3.12/dist-packages (3.9.1)\n",
            "Requirement already satisfied: matplotlib in /usr/local/lib/python3.12/dist-packages (3.10.0)\n",
            "Requirement already satisfied: seaborn in /usr/local/lib/python3.12/dist-packages (0.13.2)\n",
            "Requirement already satisfied: scikit-learn in /usr/local/lib/python3.12/dist-packages (1.6.1)\n",
            "Requirement already satisfied: httpx<1,>=0.21.0 in /usr/local/lib/python3.12/dist-packages (from replicate) (0.28.1)\n",
            "Requirement already satisfied: packaging in /usr/local/lib/python3.12/dist-packages (from replicate) (25.0)\n",
            "Requirement already satisfied: pydantic>1.10.7 in /usr/local/lib/python3.12/dist-packages (from replicate) (2.11.7)\n",
            "Requirement already satisfied: typing_extensions>=4.5.0 in /usr/local/lib/python3.12/dist-packages (from replicate) (4.15.0)\n",
            "Requirement already satisfied: langchain-core<2.0.0,>=0.3.75 in /usr/local/lib/python3.12/dist-packages (from langchain_community) (0.3.75)\n",
            "Requirement already satisfied: langchain<2.0.0,>=0.3.27 in /usr/local/lib/python3.12/dist-packages (from langchain_community) (0.3.27)\n",
            "Requirement already satisfied: SQLAlchemy<3,>=1.4 in /usr/local/lib/python3.12/dist-packages (from langchain_community) (2.0.43)\n",
            "Requirement already satisfied: requests<3,>=2.32.5 in /usr/local/lib/python3.12/dist-packages (from langchain_community) (2.32.5)\n",
            "Requirement already satisfied: PyYAML>=5.3 in /usr/local/lib/python3.12/dist-packages (from langchain_community) (6.0.2)\n",
            "Requirement already satisfied: aiohttp<4.0.0,>=3.8.3 in /usr/local/lib/python3.12/dist-packages (from langchain_community) (3.12.15)\n",
            "Requirement already satisfied: tenacity!=8.4.0,<10,>=8.1.0 in /usr/local/lib/python3.12/dist-packages (from langchain_community) (8.5.0)\n",
            "Requirement already satisfied: dataclasses-json<0.7,>=0.6.7 in /usr/local/lib/python3.12/dist-packages (from langchain_community) (0.6.7)\n",
            "Requirement already satisfied: pydantic-settings<3.0.0,>=2.10.1 in /usr/local/lib/python3.12/dist-packages (from langchain_community) (2.10.1)\n",
            "Requirement already satisfied: langsmith>=0.1.125 in /usr/local/lib/python3.12/dist-packages (from langchain_community) (0.4.27)\n",
            "Requirement already satisfied: httpx-sse<1.0.0,>=0.4.0 in /usr/local/lib/python3.12/dist-packages (from langchain_community) (0.4.1)\n",
            "Requirement already satisfied: numpy>=1.26.2 in /usr/local/lib/python3.12/dist-packages (from langchain_community) (2.0.2)\n",
            "Requirement already satisfied: python-dateutil>=2.8.2 in /usr/local/lib/python3.12/dist-packages (from pandas) (2.9.0.post0)\n",
            "Requirement already satisfied: pytz>=2020.1 in /usr/local/lib/python3.12/dist-packages (from pandas) (2025.2)\n",
            "Requirement already satisfied: tzdata>=2022.7 in /usr/local/lib/python3.12/dist-packages (from pandas) (2025.2)\n",
            "Requirement already satisfied: soupsieve>1.2 in /usr/local/lib/python3.12/dist-packages (from beautifulsoup4) (2.8)\n",
            "Requirement already satisfied: click in /usr/local/lib/python3.12/dist-packages (from nltk) (8.2.1)\n",
            "Requirement already satisfied: joblib in /usr/local/lib/python3.12/dist-packages (from nltk) (1.5.2)\n",
            "Requirement already satisfied: regex>=2021.8.3 in /usr/local/lib/python3.12/dist-packages (from nltk) (2024.11.6)\n",
            "Requirement already satisfied: tqdm in /usr/local/lib/python3.12/dist-packages (from nltk) (4.67.1)\n",
            "Requirement already satisfied: contourpy>=1.0.1 in /usr/local/lib/python3.12/dist-packages (from matplotlib) (1.3.3)\n",
            "Requirement already satisfied: cycler>=0.10 in /usr/local/lib/python3.12/dist-packages (from matplotlib) (0.12.1)\n",
            "Requirement already satisfied: fonttools>=4.22.0 in /usr/local/lib/python3.12/dist-packages (from matplotlib) (4.59.2)\n",
            "Requirement already satisfied: kiwisolver>=1.3.1 in /usr/local/lib/python3.12/dist-packages (from matplotlib) (1.4.9)\n",
            "Requirement already satisfied: pillow>=8 in /usr/local/lib/python3.12/dist-packages (from matplotlib) (11.3.0)\n",
            "Requirement already satisfied: pyparsing>=2.3.1 in /usr/local/lib/python3.12/dist-packages (from matplotlib) (3.2.3)\n",
            "Requirement already satisfied: scipy>=1.6.0 in /usr/local/lib/python3.12/dist-packages (from scikit-learn) (1.16.1)\n",
            "Requirement already satisfied: threadpoolctl>=3.1.0 in /usr/local/lib/python3.12/dist-packages (from scikit-learn) (3.6.0)\n",
            "Requirement already satisfied: aiohappyeyeballs>=2.5.0 in /usr/local/lib/python3.12/dist-packages (from aiohttp<4.0.0,>=3.8.3->langchain_community) (2.6.1)\n",
            "Requirement already satisfied: aiosignal>=1.4.0 in /usr/local/lib/python3.12/dist-packages (from aiohttp<4.0.0,>=3.8.3->langchain_community) (1.4.0)\n",
            "Requirement already satisfied: attrs>=17.3.0 in /usr/local/lib/python3.12/dist-packages (from aiohttp<4.0.0,>=3.8.3->langchain_community) (25.3.0)\n",
            "Requirement already satisfied: frozenlist>=1.1.1 in /usr/local/lib/python3.12/dist-packages (from aiohttp<4.0.0,>=3.8.3->langchain_community) (1.7.0)\n",
            "Requirement already satisfied: multidict<7.0,>=4.5 in /usr/local/lib/python3.12/dist-packages (from aiohttp<4.0.0,>=3.8.3->langchain_community) (6.6.4)\n",
            "Requirement already satisfied: propcache>=0.2.0 in /usr/local/lib/python3.12/dist-packages (from aiohttp<4.0.0,>=3.8.3->langchain_community) (0.3.2)\n",
            "Requirement already satisfied: yarl<2.0,>=1.17.0 in /usr/local/lib/python3.12/dist-packages (from aiohttp<4.0.0,>=3.8.3->langchain_community) (1.20.1)\n",
            "Requirement already satisfied: marshmallow<4.0.0,>=3.18.0 in /usr/local/lib/python3.12/dist-packages (from dataclasses-json<0.7,>=0.6.7->langchain_community) (3.26.1)\n",
            "Requirement already satisfied: typing-inspect<1,>=0.4.0 in /usr/local/lib/python3.12/dist-packages (from dataclasses-json<0.7,>=0.6.7->langchain_community) (0.9.0)\n",
            "Requirement already satisfied: anyio in /usr/local/lib/python3.12/dist-packages (from httpx<1,>=0.21.0->replicate) (4.10.0)\n",
            "Requirement already satisfied: certifi in /usr/local/lib/python3.12/dist-packages (from httpx<1,>=0.21.0->replicate) (2025.8.3)\n",
            "Requirement already satisfied: httpcore==1.* in /usr/local/lib/python3.12/dist-packages (from httpx<1,>=0.21.0->replicate) (1.0.9)\n",
            "Requirement already satisfied: idna in /usr/local/lib/python3.12/dist-packages (from httpx<1,>=0.21.0->replicate) (3.10)\n",
            "Requirement already satisfied: h11>=0.16 in /usr/local/lib/python3.12/dist-packages (from httpcore==1.*->httpx<1,>=0.21.0->replicate) (0.16.0)\n",
            "Requirement already satisfied: langchain-text-splitters<1.0.0,>=0.3.9 in /usr/local/lib/python3.12/dist-packages (from langchain<2.0.0,>=0.3.27->langchain_community) (0.3.11)\n",
            "Requirement already satisfied: jsonpatch<2.0,>=1.33 in /usr/local/lib/python3.12/dist-packages (from langchain-core<2.0.0,>=0.3.75->langchain_community) (1.33)\n",
            "Requirement already satisfied: orjson>=3.9.14 in /usr/local/lib/python3.12/dist-packages (from langsmith>=0.1.125->langchain_community) (3.11.3)\n",
            "Requirement already satisfied: requests-toolbelt>=1.0.0 in /usr/local/lib/python3.12/dist-packages (from langsmith>=0.1.125->langchain_community) (1.0.0)\n",
            "Requirement already satisfied: zstandard>=0.23.0 in /usr/local/lib/python3.12/dist-packages (from langsmith>=0.1.125->langchain_community) (0.24.0)\n",
            "Requirement already satisfied: annotated-types>=0.6.0 in /usr/local/lib/python3.12/dist-packages (from pydantic>1.10.7->replicate) (0.7.0)\n",
            "Requirement already satisfied: pydantic-core==2.33.2 in /usr/local/lib/python3.12/dist-packages (from pydantic>1.10.7->replicate) (2.33.2)\n",
            "Requirement already satisfied: typing-inspection>=0.4.0 in /usr/local/lib/python3.12/dist-packages (from pydantic>1.10.7->replicate) (0.4.1)\n",
            "Requirement already satisfied: python-dotenv>=0.21.0 in /usr/local/lib/python3.12/dist-packages (from pydantic-settings<3.0.0,>=2.10.1->langchain_community) (1.1.1)\n",
            "Requirement already satisfied: six>=1.5 in /usr/local/lib/python3.12/dist-packages (from python-dateutil>=2.8.2->pandas) (1.17.0)\n",
            "Requirement already satisfied: charset_normalizer<4,>=2 in /usr/local/lib/python3.12/dist-packages (from requests<3,>=2.32.5->langchain_community) (3.4.3)\n",
            "Requirement already satisfied: urllib3<3,>=1.21.1 in /usr/local/lib/python3.12/dist-packages (from requests<3,>=2.32.5->langchain_community) (2.5.0)\n",
            "Requirement already satisfied: greenlet>=1 in /usr/local/lib/python3.12/dist-packages (from SQLAlchemy<3,>=1.4->langchain_community) (3.2.4)\n",
            "Requirement already satisfied: jsonpointer>=1.9 in /usr/local/lib/python3.12/dist-packages (from jsonpatch<2.0,>=1.33->langchain-core<2.0.0,>=0.3.75->langchain_community) (3.0.0)\n",
            "Requirement already satisfied: mypy-extensions>=0.3.0 in /usr/local/lib/python3.12/dist-packages (from typing-inspect<1,>=0.4.0->dataclasses-json<0.7,>=0.6.7->langchain_community) (1.1.0)\n",
            "Requirement already satisfied: sniffio>=1.1 in /usr/local/lib/python3.12/dist-packages (from anyio->httpx<1,>=0.21.0->replicate) (1.3.1)\n",
            "✅ Pustaka berhasil diinstal dan diimpor.\n"
          ]
        }
      ],
      "source": [
        "# =========================\n",
        "# Cell 1: Instalasi & Impor Pustaka\n",
        "# =========================\n",
        "!pip install replicate langchain_community pandas beautifulsoup4 nltk matplotlib seaborn scikit-learn\n",
        "\n",
        "from google.colab import userdata\n",
        "import os\n",
        "import re\n",
        "import pandas as pd\n",
        "import nltk\n",
        "from bs4 import BeautifulSoup\n",
        "import matplotlib.pyplot as plt\n",
        "import seaborn as sns\n",
        "from sklearn.metrics import confusion_matrix, classification_report\n",
        "import warnings\n",
        "\n",
        "# Mengabaikan peringatan untuk output yang lebih bersih\n",
        "warnings.filterwarnings(\"ignore\")\n",
        "\n",
        "# Pastikan stopwords tersedia\n",
        "try:\n",
        "    nltk.data.find('corpora/stopwords')\n",
        "except nltk.downloader.DownloadError:\n",
        "    nltk.download(\"stopwords\")\n",
        "from nltk.corpus import stopwords\n",
        "stop_words = set(stopwords.words(\"english\"))\n",
        "\n",
        "print(\"✅ Pustaka berhasil diinstal dan diimpor.\")"
      ]
    },
    {
      "cell_type": "code",
      "source": [
        "# =========================\n",
        "# Cell 2: Inisialisasi API & Model\n",
        "# =========================\n",
        "try:\n",
        "    api_token = userdata.get(\"REPLICATE_API_TOKEN\")\n",
        "    if not api_token:\n",
        "        raise ValueError(\"Token API tidak ditemukan di Colab Secrets.\")\n",
        "    os.environ[\"REPLICATE_API_TOKEN\"] = api_token\n",
        "    llm = Replicate(model=\"ibm-granite/granite-3.3-8b-instruct\")\n",
        "    print(\"✅ Model IBM Granite berhasil diinisialisasi.\")\n",
        "except Exception as e:\n",
        "    print(f\"❌ Error saat menginisialisasi model: {e}\")\n",
        "    llm = None"
      ],
      "metadata": {
        "id": "dYtIjzz5z8Yq",
        "colab": {
          "base_uri": "https://localhost:8080/"
        },
        "outputId": "3b662bd5-e5ec-4e29-f0bf-e7bf566ee79a"
      },
      "execution_count": 60,
      "outputs": [
        {
          "output_type": "stream",
          "name": "stdout",
          "text": [
            "✅ Model IBM Granite berhasil diinisialisasi.\n"
          ]
        }
      ]
    },
    {
      "cell_type": "code",
      "source": [
        "# =========================\n",
        "# Cell 3: Muat & Pra-pemrosesan Dataset\n",
        "# =========================\n",
        "if llm: # Hanya jalankan jika model berhasil diinisialisasi\n",
        "    try:\n",
        "        df = pd.read_csv(\"IMDB Dataset.csv\")\n",
        "        print(\"✅ Dataset berhasil dimuat.\")\n",
        "        print(\"\\nBerikut 5 baris pertama dari dataset:\")\n",
        "        print(df.head())\n",
        "    except FileNotFoundError:\n",
        "        print(\"❌ Error: File 'IMDB Dataset.csv' tidak ditemukan. Mohon unggah file ke Google Colab.\")\n",
        "        df = pd.DataFrame()\n",
        "\n",
        "    def clean_text(text):\n",
        "        if not isinstance(text, str):\n",
        "            return \"\"\n",
        "        # BeautifulSoup lebih efektif & aman untuk menghapus tag HTML\n",
        "        text = BeautifulSoup(text, \"html.parser\").get_text()\n",
        "        text = text.lower()\n",
        "        # Menggunakan regex yang lebih spesifik untuk URL\n",
        "        text = re.sub(r'https?://\\S+|www\\.\\S+', '', text)\n",
        "        # Menghapus karakter non-alphanumeric, kecuali spasi\n",
        "        text = re.sub(r'[^\\w\\s]', '', text)\n",
        "        # Menghapus spasi berlebih\n",
        "        text = re.sub(r'\\s+', ' ', text).strip()\n",
        "        # Menghapus stopwords\n",
        "        tokens = [word for word in text.split() if word not in stop_words]\n",
        "        return \" \".join(tokens)\n",
        "\n",
        "    if not df.empty and 'review' in df.columns:\n",
        "        df[\"review_clean\"] = df[\"review\"].apply(clean_text)\n",
        "        print(\"✅ Data berhasil dipra-proses.\")\n",
        "    else:\n",
        "        print(\"❌ Kolom 'review' tidak ditemukan atau DataFrame kosong.\")"
      ],
      "metadata": {
        "id": "3r0dJL1m1LrS",
        "colab": {
          "base_uri": "https://localhost:8080/"
        },
        "outputId": "a6ff4b48-b09d-4212-c8ae-241fed53d87d"
      },
      "execution_count": 61,
      "outputs": [
        {
          "output_type": "stream",
          "name": "stdout",
          "text": [
            "✅ Dataset berhasil dimuat.\n",
            "\n",
            "Berikut 5 baris pertama dari dataset:\n",
            "                                              review sentiment\n",
            "0  One of the other reviewers has mentioned that ...  positive\n",
            "1  A wonderful little production. <br /><br />The...  positive\n",
            "2  I thought this was a wonderful way to spend ti...  positive\n",
            "3  Basically there's a family where a little boy ...  negative\n",
            "4  Petter Mattei's \"Love in the Time of Money\" is...  positive\n",
            "✅ Data berhasil dipra-proses.\n"
          ]
        }
      ]
    },
    {
      "cell_type": "code",
      "source": [
        "# =========================\n",
        "# Cell 4: Prompting & Klasifikasi\n",
        "# =========================\n",
        "if llm and not df.empty and 'review_clean' in df.columns:\n",
        "    prompt_template = PromptTemplate.from_template(\n",
        "        \"\"\"Klasifikasikan sentimen dari ulasan film berikut sebagai \"Positif\" atau \"Negatif\".\n",
        "        Jawab hanya dengan kata \"Positif\" atau \"Negatif\".\n",
        "\n",
        "        Ulasan: {text}\n",
        "\n",
        "        Sentimen:\n",
        "        \"\"\"\n",
        "    )\n",
        "    llm_chain = LLMChain(llm=llm, prompt=prompt_template)\n",
        "\n",
        "    def classify_sentiment(text):\n",
        "        # Perbaikan: Validasi input agar tidak error\n",
        "        if not isinstance(text, str) or not text.strip():\n",
        "            return \"unknown\"\n",
        "        try:\n",
        "            response = llm_chain.invoke({\"text\": text})\n",
        "            sentiment = response[\"text\"].strip().lower()\n",
        "\n",
        "            # Mapping agar sesuai dataset IMDB (positive/negative)\n",
        "            if \"positif\" in sentiment:\n",
        "                return \"positive\"\n",
        "            elif \"negatif\" in sentiment:\n",
        "                return \"negative\"\n",
        "            else:\n",
        "                # Menangani kasus di mana model tidak memberikan salah satu jawaban yang diharapkan\n",
        "                return \"unknown\"\n",
        "        except Exception as e:\n",
        "            return f\"error: {e}\"\n",
        "\n",
        "    print(\"✅ Fungsi klasifikasi sentimen siap.\")\n",
        "\n",
        "    # Ambil sampel & klasifikasi\n",
        "    # Menambah validasi agar tidak error jika data tidak cukup\n",
        "    sample_size = min(200, len(df))\n",
        "    sample_df = df.head(sample_size).copy()\n",
        "\n",
        "    print(f\"\\n⚡ Memulai klasifikasi sentimen untuk {sample_size} sampel data...\")\n",
        "    sample_df[\"sentimen_model\"] = sample_df[\"review_clean\"].apply(classify_sentiment)\n",
        "\n",
        "    print(\"\\n📊 Hasil klasifikasi sentimen dari model (10 data pertama):\")\n",
        "    print(sample_df[[\"review\", \"sentiment\", \"sentimen_model\"]].head(10))"
      ],
      "metadata": {
        "colab": {
          "base_uri": "https://localhost:8080/"
        },
        "id": "gc2eybRO3eqk",
        "outputId": "d759c2f9-4971-4c3c-d04f-2a913e1d3298"
      },
      "execution_count": 55,
      "outputs": [
        {
          "output_type": "stream",
          "name": "stdout",
          "text": [
            "✅ Fungsi klasifikasi sentimen siap.\n",
            "\n",
            "⚡ Memulai klasifikasi sentimen untuk 200 sampel data...\n",
            "\n",
            "📊 Hasil klasifikasi sentimen dari model (10 data pertama):\n",
            "                                              review sentiment sentimen_model\n",
            "0  One of the other reviewers has mentioned that ...  positive       negative\n",
            "1  A wonderful little production. <br /><br />The...  positive       positive\n",
            "2  I thought this was a wonderful way to spend ti...  positive       positive\n",
            "3  Basically there's a family where a little boy ...  negative       negative\n",
            "4  Petter Mattei's \"Love in the Time of Money\" is...  positive       positive\n",
            "5  Probably my all-time favorite movie, a story o...  positive       positive\n",
            "6  I sure would like to see a resurrection of a u...  positive       positive\n",
            "7  This show was an amazing, fresh & innovative i...  negative       negative\n",
            "8  Encouraged by the positive comments about this...  negative       negative\n",
            "9  If you like original gut wrenching laughter yo...  positive       positive\n"
          ]
        }
      ]
    },
    {
      "cell_type": "code",
      "source": [
        "# =========================\n",
        "# Cell 5: Evaluasi & Visualisasi\n",
        "# =========================\n",
        "if 'sentiment' in df.columns and 'sentimen_model' in sample_df.columns:\n",
        "    y_true = sample_df[\"sentiment\"].str.strip().str.lower()\n",
        "    y_pred = sample_df[\"sentimen_model\"].str.strip().str.lower()\n",
        "\n",
        "    # Filter data yang valid (bukan 'unknown' atau 'error')\n",
        "    valid_indices = (y_pred != 'unknown') & (~y_pred.str.startswith('error:'))\n",
        "    y_true_valid = y_true[valid_indices]\n",
        "    y_pred_valid = y_pred[valid_indices]\n",
        "\n",
        "    if len(y_true_valid) > 0:\n",
        "        # Akurasi & laporan\n",
        "        print(\"\\n🎯 Classification Report:\")\n",
        "        # Menangani label yang mungkin hilang\n",
        "        target_names = [\"positive\", \"negative\"]\n",
        "        print(classification_report(y_true_valid, y_pred_valid, target_names=target_names, zero_division=0))\n",
        "\n",
        "        # Confusion Matrix\n",
        "        cm = confusion_matrix(y_true_valid, y_pred_valid, labels=[\"positive\", \"negative\"])\n",
        "        plt.figure(figsize=(6, 4))\n",
        "        sns.heatmap(cm, annot=True, fmt=\"d\", cmap=\"Blues\",\n",
        "                    xticklabels=[\"positive\", \"negative\"],\n",
        "                    yticklabels=[\"positive\", \"negative\"])\n",
        "        plt.xlabel(\"Predicted\")\n",
        "        plt.ylabel(\"True\")\n",
        "        plt.title(\"Confusion Matrix\")\n",
        "        plt.show()\n",
        "\n",
        "        # Distribusi prediksi\n",
        "        plt.figure(figsize=(6, 4))\n",
        "        sample_df[\"sentimen_model\"].value_counts().plot(kind=\"bar\", color=[\"green\", \"red\", \"gray\"])\n",
        "        plt.title(\"Distribusi Prediksi Sentimen\")\n",
        "        plt.xlabel(\"Sentimen\")\n",
        "        plt.ylabel(\"Jumlah\")\n",
        "        plt.xticks(rotation=0)\n",
        "        plt.show()\n",
        "\n",
        "    else:\n",
        "        print(\"\\n❌ Tidak ada data yang terklasifikasi dengan valid untuk dievaluasi.\")\n",
        "else:\n",
        "    print(\"\\n❌ Kolom yang diperlukan untuk evaluasi tidak ditemukan.\")"
      ],
      "metadata": {
        "id": "jXe-owwy7cr0",
        "colab": {
          "base_uri": "https://localhost:8080/",
          "height": 994
        },
        "outputId": "f932275a-8962-407c-c0c4-6d82043a399b"
      },
      "execution_count": 56,
      "outputs": [
        {
          "output_type": "stream",
          "name": "stdout",
          "text": [
            "\n",
            "🎯 Classification Report:\n",
            "              precision    recall  f1-score   support\n",
            "\n",
            "    positive       0.90      0.98      0.94       115\n",
            "    negative       0.97      0.86      0.91        85\n",
            "\n",
            "    accuracy                           0.93       200\n",
            "   macro avg       0.94      0.92      0.93       200\n",
            "weighted avg       0.93      0.93      0.93       200\n",
            "\n"
          ]
        },
        {
          "output_type": "display_data",
          "data": {
            "text/plain": [
              "<Figure size 600x400 with 2 Axes>"
            ],
            "image/png": "[encoded data removed]"
          },
          "metadata": {}
        },
        {
          "output_type": "display_data",
          "data": {
            "text/plain": [
              "<Figure size 600x400 with 1 Axes>"
            ],
            "image/png": "[encoded data removed]"
          },
          "metadata": {}
        }
      ]
    },
    {
      "cell_type": "code",
      "source": [
        "# =========================\n",
        "# Cell 6: Fungsi Tanya-Jawab ke LLM berdasarkan dataset\n",
        "# =========================\n",
        "if llm and 'sentimen_model' in sample_df.columns:\n",
        "    qa_prompt = PromptTemplate.from_template(\n",
        "        \"\"\"Kamu adalah asisten analisis data.\n",
        "        Berikut ini ringkasan data review film:\n",
        "\n",
        "        {data_summary}\n",
        "\n",
        "        Pertanyaan: {question}\n",
        "\n",
        "        Jawaban:\n",
        "        \"\"\"\n",
        "    )\n",
        "    qa_chain = LLMChain(llm=llm, prompt=qa_prompt)\n",
        "\n",
        "    def ask_dataset(question, df=sample_df):\n",
        "        pos_count = (df[\"sentimen_model\"] == \"positive\").sum()\n",
        "        neg_count = (df[\"sentimen_model\"] == \"negative\").sum()\n",
        "        unk_count = (df[\"sentimen_model\"] == \"unknown\").sum()\n",
        "\n",
        "        summary = f\"Total data: {len(df)} | Positif: {pos_count} | Negatif: {neg_count} | Tidak terklasifikasi: {unk_count}\"\n",
        "\n",
        "        pos_reviews = df[df['sentimen_model'] == 'positive']['review'].head(2).tolist()\n",
        "        neg_reviews = df[df['sentimen_model'] == 'negative']['review'].head(2).tolist()\n",
        "\n",
        "        summary += f\"\\nBeberapa contoh ulasan positif: {pos_reviews}\\nBeberapa contoh ulasan negatif: {neg_reviews}\"\n",
        "\n",
        "        response = qa_chain.invoke({\"data_summary\": summary, \"question\": question})\n",
        "        return response[\"text\"]"
      ],
      "metadata": {
        "id": "3IDrU6pb_O_3"
      },
      "execution_count": 57,
      "outputs": []
    },
    {
      "cell_type": "code",
      "source": [
        "    # =========================\n",
        "    # Cell 7: Contoh penggunaan QA\n",
        "    # =========================\n",
        "    print(\"\\n🤖 Contoh Tanya-Jawab ke model tentang dataset:\")\n",
        "    print(\"Pertanyaan: Berapa banyak review positif dibanding negatif?\")\n",
        "    print(ask_dataset(\"Berapa banyak review positif dibanding negatif?\"))\n",
        "    print(\"\\nPertanyaan: Tunjukkan satu contoh review negatif.\")\n",
        "    print(ask_dataset(\"Tunjukkan satu contoh review negatif.\"))"
      ],
      "metadata": {
        "colab": {
          "base_uri": "https://localhost:8080/"
        },
        "id": "w7fU5YKI6Hvv",
        "outputId": "9e839667-5f9c-46c5-8938-1f310a28fd73"
      },
      "execution_count": 58,
      "outputs": [
        {
          "output_type": "stream",
          "name": "stdout",
          "text": [
            "\n",
            "🤖 Contoh Tanya-Jawab ke model tentang dataset:\n",
            "Pertanyaan: Berapa banyak review positif dibanding negatif?\n",
            "Dari ringkasan data, ada 75 review positif dan 125 review negatif. Jadi, jumlah review positif lebih kecil dibandingkan review negatif.\n",
            "\n",
            "Pertanyaan: Tunjukkan satu contoh review negatif.\n",
            "Sure, here's one example of a negative review from the dataset:\n",
            "\n",
            "\"Basically there's a family where a little boy (Jake) thinks there's a zombie in his closet & his parents are fighting all the time.\n",
            "\n",
            "This movie is slower than a soap opera... and suddenly, Jake decides to become Rambo and kill the zombie.\n",
            "\n",
            "OK, first of all when you're going to make a film you must Decide if its a thriller or a drama! As a drama the movie is watchable. Parents are divorcing & arguing like in real life. And then we have Jake with his closet which totally ruins all the film! I expected to see a BOOGEYMAN similar movie, and instead i watched a drama with some meaningless thriller spots.\n",
            "\n",
            "3 out of 10 just for the well playing parents & descent dialogs. As for the shots with Jake: just ignore them.\"\n",
            "\n",
            "This review is negative because the reviewer expresses disappointment with the film's inconsistent tone, criticizing it for failing to decide whether it's a thriller or a drama. They find the pacing slow and the portrayal of Jake's \"zombie\" encounter unsatisfying, stating that it detracts from what could have been a decent drama about a family going through a divorce. The reviewer gives the movie a low rating, citing only the acting and dialogues as redeeming features, while urging viewers to disregard scenes involving Jake.\n"
          ]
        }
      ]
    }
  ]
}